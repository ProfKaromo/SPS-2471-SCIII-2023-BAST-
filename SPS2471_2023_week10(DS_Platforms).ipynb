{
  "nbformat": 4,
  "nbformat_minor": 0,
  "metadata": {
    "colab": {
      "provenance": [],
      "authorship_tag": "ABX9TyMHynUHMwPycrjeSONHvBXd",
      "include_colab_link": true
    },
    "kernelspec": {
      "name": "python3",
      "display_name": "Python 3"
    },
    "language_info": {
      "name": "python"
    }
  },
  "cells": [
    {
      "cell_type": "markdown",
      "metadata": {
        "id": "view-in-github",
        "colab_type": "text"
      },
      "source": [
        "<a href=\"https://colab.research.google.com/github/ProfKaromo/SPS-2471-SCIII-2023-BAST-/blob/main/SPS2471_2023_week10(DS_Platforms).ipynb\" target=\"_parent\"><img src=\"https://colab.research.google.com/assets/colab-badge.svg\" alt=\"Open In Colab\"/></a>"
      ]
    },
    {
      "cell_type": "markdown",
      "source": [
        "**Dealing with Lists and their methods**"
      ],
      "metadata": {
        "id": "zpblklaqh_FX"
      }
    },
    {
      "cell_type": "code",
      "execution_count": 2,
      "metadata": {
        "colab": {
          "base_uri": "https://localhost:8080/"
        },
        "id": "M8RiNB0ahWCk",
        "outputId": "3a9bd4f9-2d03-419e-d009-682e1f1877fd"
      },
      "outputs": [
        {
          "output_type": "stream",
          "name": "stdout",
          "text": [
            "['Kenya', 'South Sudan', 'Cameroon', 'Ivory Cost', 'Malawi', 'Uganda', 'South Africa']\n",
            "('Kenya', 'South Sudan', 'Cameroon', 'Ivory Cost', 'Malawi', 'Uganda', 'South Africa')\n",
            "['Kenya', 'South Sudan', 'Cameroon', 'Ivory Cost', 'Malawi', 'Uganda', 'South Africa']\n",
            "Kenya\n",
            "South Sudan\n",
            "Cameroon\n",
            "Ivory Cost\n",
            "Malawi\n",
            "Uganda\n",
            "South Africa\n",
            "['Kenya', 'Cameroon', 'Malawi', 'Uganda']\n",
            "['South Sudan', 'Ivory Cost', 'South Africa']\n"
          ]
        }
      ],
      "source": [
        "countriesL = ['Kenya','South Sudan','Cameroon','Ivory Cost','Malawi','Uganda','South Africa']\n",
        "print(countriesL)\n",
        "countriesT = ('Kenya','South Sudan','Cameroon','Ivory Cost','Malawi','Uganda','South Africa')\n",
        "print(countriesT)\n",
        "\n",
        "countriesL.append('Tanzania')\n",
        "countriesL.remove(countriesL[len(countriesL)-1])\n",
        "print(countriesL)\n"
      ]
    },
    {
      "cell_type": "markdown",
      "source": [
        "_Apend Method_"
      ],
      "metadata": {
        "id": "-sqtmqwWibV4"
      }
    },
    {
      "cell_type": "code",
      "source": [
        "for i in range(len(countriesL)):\n",
        "    print(countriesL[i])\n",
        "\n",
        "countriesL_one = []\n",
        "countriesL_two = []\n",
        "for i in range(len(countriesL)):\n",
        "    if ' ' in countriesL[i]:\n",
        "        countriesL_two.append(countriesL[i])\n",
        "    else:\n",
        "        countriesL_one.append(countriesL[i])\n",
        "print(countriesL_one)\n",
        "print(countriesL_two)"
      ],
      "metadata": {
        "colab": {
          "base_uri": "https://localhost:8080/"
        },
        "id": "Q-J7Dboqihg5",
        "outputId": "0d8fbde0-38c4-46cd-e5e2-2f511fb8d7a3"
      },
      "execution_count": 3,
      "outputs": [
        {
          "output_type": "stream",
          "name": "stdout",
          "text": [
            "Kenya\n",
            "South Sudan\n",
            "Cameroon\n",
            "Ivory Cost\n",
            "Malawi\n",
            "Uganda\n",
            "South Africa\n",
            "['Kenya', 'Cameroon', 'Malawi', 'Uganda']\n",
            "['South Sudan', 'Ivory Cost', 'South Africa']\n"
          ]
        }
      ]
    }
  ]
}