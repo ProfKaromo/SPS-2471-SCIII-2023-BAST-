{
  "nbformat": 4,
  "nbformat_minor": 0,
  "metadata": {
    "colab": {
      "provenance": [],
      "authorship_tag": "ABX9TyPIo9ZZ4V7aUTvUuyodhNP2",
      "include_colab_link": true
    },
    "kernelspec": {
      "name": "python3",
      "display_name": "Python 3"
    },
    "language_info": {
      "name": "python"
    }
  },
  "cells": [
    {
      "cell_type": "markdown",
      "metadata": {
        "id": "view-in-github",
        "colab_type": "text"
      },
      "source": [
        "<a href=\"https://colab.research.google.com/github/ProfKaromo/SPS-2471-SCIII-2023-BAST-/blob/main/SPS2471_SCIII_PRCTICAL_CAT_II.ipynb\" target=\"_parent\"><img src=\"https://colab.research.google.com/assets/colab-badge.svg\" alt=\"Open In Colab\"/></a>"
      ]
    },
    {
      "cell_type": "code",
      "execution_count": 1,
      "metadata": {
        "colab": {
          "base_uri": "https://localhost:8080/"
        },
        "id": "eVsazOT_LOWf",
        "outputId": "dfe552f0-b858-4990-c811-16c3b13ef041"
      },
      "outputs": [
        {
          "output_type": "stream",
          "name": "stdout",
          "text": [
            "[222, 444, 111, 333, 333]\n"
          ]
        }
      ],
      "source": [
        "import random\n",
        "\n",
        "numberList = [111, 222, 333, 444, 555]\n",
        "print(random.choices(numberList, weights=(10, 20, 30, 40, 50), k=5))"
      ]
    }
  ]
}