{
  "nbformat": 4,
  "nbformat_minor": 0,
  "metadata": {
    "colab": {
      "provenance": [],
      "authorship_tag": "ABX9TyMDJLXo5vSuoojn75Sow2XD",
      "include_colab_link": true
    },
    "kernelspec": {
      "name": "python3",
      "display_name": "Python 3"
    },
    "language_info": {
      "name": "python"
    }
  },
  "cells": [
    {
      "cell_type": "markdown",
      "metadata": {
        "id": "view-in-github",
        "colab_type": "text"
      },
      "source": [
        "<a href=\"https://colab.research.google.com/github/ProfKaromo/SPS-2471-SCIII-2023-BAST-/blob/main/SPS2471_SCIII_PRACTICAL_CAT_II.ipynb\" target=\"_parent\"><img src=\"https://colab.research.google.com/assets/colab-badge.svg\" alt=\"Open In Colab\"/></a>"
      ]
    },
    {
      "cell_type": "markdown",
      "source": [
        "\n",
        "**KIRINYAGA UNIVERSITY**\\\n",
        "**SCHOOL OF PURE AND APPLIED SCIENCES**\\\n",
        "**DEPARTMENT OF PURE AND APPLIED SCIENCES**\\\n",
        "**SPS 2471: STATISTICAL COMPUTING III (PA 105) ; CAT II. MARCH, 2023**\n",
        "\n",
        "\n",
        "---\n",
        "\n",
        "\n",
        "\n",
        "**INSTRUCTIONS:** \n",
        "1.   Run the code below to get one random question that you are requred to do within **10 minutes only.**\n",
        "2.   Marks will be awarded for a **running Python code only.**\n",
        "3.   Remember to **indent your Python codes**, otherwise marks will be deducted for un-indented codes.\n",
        "\n",
        "\n",
        "---\n",
        "\n",
        "\n"
      ],
      "metadata": {
        "id": "9tVVKkfsUXZn"
      }
    },
    {
      "cell_type": "code",
      "execution_count": 49,
      "metadata": {
        "colab": {
          "base_uri": "https://localhost:8080/"
        },
        "id": "eVsazOT_LOWf",
        "outputId": "460f38ea-e358-4ce0-8781-f2d7e0196745"
      },
      "outputs": [
        {
          "output_type": "stream",
          "name": "stdout",
          "text": [
            "[[8], [13], [15], [12], [8], [10], [9], [1], [3], [10], [2], [7], [13], [15], [10], [5], [6], [12], [14], [14], [12], [2], [1], [10], [4], [7], [5], [11]]\n"
          ]
        }
      ],
      "source": [
        "import random\n",
        "\n",
        "questionList = [1,2,3,4,5,6,7,8,9,10,11,12,13,14,15]\n",
        "#print(random.choices(questionList, weights=(1,1,1,1,1,1,1,1,1,1,1,1,1,1,1), k=1))\n",
        "\n",
        "choiceList = []\n",
        "for i in range(1,29,1):\n",
        "  k = random.choices(questionList, weights=(1,1,1,1,1,1,1,1,1,1,1,1,1,1,1), k=1)\n",
        "  choiceList.append(k)\n",
        "\n",
        "print(choiceList)"
      ]
    }
  ]
}