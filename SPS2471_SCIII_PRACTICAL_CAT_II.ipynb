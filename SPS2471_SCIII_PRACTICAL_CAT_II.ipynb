{
  "nbformat": 4,
  "nbformat_minor": 0,
  "metadata": {
    "colab": {
      "provenance": [],
      "authorship_tag": "ABX9TyO4UR36RtaNLPaLHSSwT5qF",
      "include_colab_link": true
    },
    "kernelspec": {
      "name": "python3",
      "display_name": "Python 3"
    },
    "language_info": {
      "name": "python"
    }
  },
  "cells": [
    {
      "cell_type": "markdown",
      "metadata": {
        "id": "view-in-github",
        "colab_type": "text"
      },
      "source": [
        "<a href=\"https://colab.research.google.com/github/ProfKaromo/SPS-2471-SCIII-2023-BAST-/blob/main/SPS2471_SCIII_PRACTICAL_CAT_II.ipynb\" target=\"_parent\"><img src=\"https://colab.research.google.com/assets/colab-badge.svg\" alt=\"Open In Colab\"/></a>"
      ]
    },
    {
      "cell_type": "code",
      "execution_count": 47,
      "metadata": {
        "colab": {
          "base_uri": "https://localhost:8080/"
        },
        "id": "eVsazOT_LOWf",
        "outputId": "84b1e4bd-5830-474b-c244-c9522319847d"
      },
      "outputs": [
        {
          "output_type": "stream",
          "name": "stdout",
          "text": [
            "[[12], [2], [8], [10], [8], [6], [10], [7], [8], [2], [4], [10], [9], [2], [2], [10], [11], [15], [12], [7], [4], [6], [6], [13], [13], [1], [15], [9]]\n"
          ]
        }
      ],
      "source": [
        "import random\n",
        "\n",
        "questionList = [1,2,3,4,5,6,7,8,9,10,11,12,13,14,15]\n",
        "#print(random.choices(questionList, weights=(1,1,1,1,1,1,1,1,1,1,1,1,1,1,1), k=1))\n",
        "\n",
        "choiceList = []\n",
        "for i in range(1,29,1):\n",
        "  k = random.choices(questionList, weights=(1,1,1,1,1,1,1,1,1,1,1,1,1,1,1), k=1)\n",
        "  choiceList.append(k)\n",
        "\n",
        "print(choiceList)"
      ]
    }
  ]
}